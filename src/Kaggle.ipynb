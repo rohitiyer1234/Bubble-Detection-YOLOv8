{
 "cells": [
  {
   "cell_type": "code",
   "execution_count": null,
   "metadata": {
    "vscode": {
     "languageId": "plaintext"
    }
   },
   "outputs": [],
   "source": [
    "!pip install ultralytics"
   ]
  },
  {
   "cell_type": "code",
   "execution_count": null,
   "metadata": {
    "vscode": {
     "languageId": "plaintext"
    }
   },
   "outputs": [],
   "source": [
    "import os\n",
    "print(os.listdir('/kaggle/input/'))\n"
   ]
  },
  {
   "cell_type": "code",
   "execution_count": null,
   "metadata": {
    "vscode": {
     "languageId": "plaintext"
    }
   },
   "outputs": [],
   "source": [
    "\n",
    "from ultralytics import YOLO\n",
    "import os\n",
    "import cv2\n",
    "\n",
    "from PIL import Image"
   ]
  },
  {
   "cell_type": "code",
   "execution_count": null,
   "metadata": {
    "vscode": {
     "languageId": "plaintext"
    }
   },
   "outputs": [],
   "source": [
    "dir = '/kaggle/input/fullbubbles/data.yaml'\n",
    "\n",
    "# Load YOLOv8 model\n",
    "model = YOLO(\"yolov8m.pt\")\n",
    "\n",
    "# Train the model with the specified YAML\n",
    "results = model.train(\n",
    "    data=dir, \n",
    "    epochs=180, \n",
    "    lr0=0.01,         # Increased learning rate\n",
    "    dropout=0.2,      # Reduced dropout for better fitting\n",
    "    label_smoothing=0.3, \n",
    "    patience=40,      # Kept patience at 40\n",
    "    imgsz=320,\n",
    "    batch = 16,\n",
    "    augment=True# Increased image size\n",
    ")"
   ]
  },
  {
   "cell_type": "code",
   "execution_count": null,
   "metadata": {
    "vscode": {
     "languageId": "plaintext"
    }
   },
   "outputs": [],
   "source": [
    "import os\n",
    "print(os.listdir('/kaggle/input/'))  # List all available folders and files in the /kaggle/input/ directory\n"
   ]
  },
  {
   "cell_type": "code",
   "execution_count": null,
   "metadata": {
    "vscode": {
     "languageId": "plaintext"
    }
   },
   "outputs": [],
   "source": [
    "from ultralytics import YOLO\n",
    "\n",
    "# Load your trained YOLO model\n",
    "model = YOLO(\"/kaggle/working/runs/detect/train/weights/best.pt\")  # Replace with the correct path to your best model\n",
    "\n",
    "# Specify the path to your data.yaml file\n",
    "data_yaml_path = '/kaggle/input/fullbubbles/data.yaml'  # Path to the data.yaml file\n",
    "\n",
    "# Validate the model on the validation dataset\n",
    "results = model.val(data=data_yaml_path)\n",
    "\n",
    "# Print validation results\n",
    "print(f\"Validation Results: {results}\")"
   ]
  },
  {
   "cell_type": "code",
   "execution_count": null,
   "metadata": {
    "vscode": {
     "languageId": "plaintext"
    }
   },
   "outputs": [],
   "source": [
    "import shutil\n",
    "\n",
    "# Path to the trained model's best weights\n",
    "model_path = \"runs/detect/train4/weights/best.pt\"\n",
    "\n",
    "# Move the file to the output folder for download\n",
    "shutil.copy(model_path, \"/kaggle/working/best.pt\")"
   ]
  }
 ],
 "metadata": {
  "language_info": {
   "name": "python"
  }
 },
 "nbformat": 4,
 "nbformat_minor": 2
}
